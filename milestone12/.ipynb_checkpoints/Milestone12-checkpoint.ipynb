{
 "cells": [
  {
   "cell_type": "markdown",
   "metadata": {},
   "source": [
    "Comprobar wavelet."
   ]
  },
  {
   "cell_type": "code",
   "execution_count": 5,
   "metadata": {},
   "outputs": [],
   "source": [
    "import sounddevice as sd\n",
    "import pywt\n",
    "import math\n",
    "import numpy as np\n",
    "%matplotlib inline\n",
    "import matplotlib\n",
    "import matplotlib.pyplot as plt\n",
    "from scipy import signal\n",
    "from ipywidgets import interact, interactive, fixed, interact_manual\n",
    "import ipywidgets as widgets\n",
    "import pylab"
   ]
  },
  {
   "cell_type": "code",
   "execution_count": 6,
   "metadata": {},
   "outputs": [],
   "source": [
    "N = 512\n",
    "levels = 4\n",
    "#wavelet_name = \"haar\"\n",
    "#wavelet_name = \"db5\"\n",
    "#wavelet_name = \"db20\"\n",
    "#wavelet_name = \"bior2.2\"\n",
    "#wavelet_name = \"rbio2.2\"\n",
    "#wavelet_name = \"coif2\"\n",
    "#wavelet_name = \"db3\"\n",
    "#wavelet_name = \"sym2\"\n",
    "wavelet_name = \"sym4\"\n",
    "#wavelet_name = \"bior4.4\"\n",
    "#wavelet_name = \"bior4.5\"\n",
    "#wavelet_name = \"rbio1.3\"\n",
    "wavelet = pywt.Wavelet(wavelet_name)\n",
    "signal_mode_extension = \"per\"\n",
    "quantization_step = 256\n",
    "chunk_size = 128\n",
    "chunk_number = 15"
   ]
  },
  {
   "cell_type": "code",
   "execution_count": 7,
   "metadata": {},
   "outputs": [],
   "source": [
    "def energy_of_signal(x):\n",
    "    return np.sum(x.astype(np.double)*x.astype(np.double))\n",
    "\n",
    "def spectrum(i):\n",
    "    zeros = np.zeros(N)\n",
    "    decomposition = pywt.wavedec(zeros, wavelet=wavelet, level=levels, mode=\"per\")\n",
    "    coefficients, slices = pywt.coeffs_to_array(decomposition)\n",
    "    coefficients[i] = 1\n",
    "    decomposition = pywt.array_to_coeffs(coefficients, slices, output_format=\"wavedec\")\n",
    "    samples = pywt.waverec(decomposition, wavelet=wavelet, mode=\"per\")\n",
    "    coefs = np.fft.rfft(samples)\n",
    "    spectrum = np.sqrt(coefs.real*coefs.real + coefs.imag*coefs.imag)\n",
    "    pylab.plot(np.linspace(0, len(spectrum)-1, len(spectrum)), spectrum)\n",
    "    energy = energy_of_signal(samples)\n",
    "    if i <= (N>>levels):\n",
    "        type = \"scaling f.\"\n",
    "    else:\n",
    "        type = \"wavelet f.\"\n",
    "    pylab.plot(np.linspace(0, len(samples)-1, len(samples)), samples, label=f\"{i} ({energy:3.2f}) {type}\")\n",
    "    pylab.legend(loc='upper right')\n",
    "    pylab.show()"
   ]
  },
  {
   "cell_type": "code",
   "execution_count": 8,
   "metadata": {},
   "outputs": [
    {
     "data": {
      "application/vnd.jupyter.widget-view+json": {
       "model_id": "27ebaa125b6244e2827c1f3e33652451",
       "version_major": 2,
       "version_minor": 0
      },
      "text/plain": [
       "interactive(children=(IntSlider(value=0, description='i', max=511), Output()), _dom_classes=('widget-interact'…"
      ]
     },
     "metadata": {},
     "output_type": "display_data"
    }
   ],
   "source": [
    "interact(spectrum, i=widgets.IntSlider(min=0, max=N-1, step=1, value=0));"
   ]
  },
  {
   "cell_type": "markdown",
   "metadata": {},
   "source": [
    "RD Curves"
   ]
  },
  {
   "cell_type": "code",
   "execution_count": 9,
   "metadata": {},
   "outputs": [
    {
     "name": "stdout",
     "output_type": "stream",
     "text": [
      "Say something!\n",
      "done\n"
     ]
    }
   ],
   "source": [
    "fs = 44100      # Sampling frequency\n",
    "duration = 5.0  # seconds\n",
    "x = sd.rec(int(duration * fs), samplerate=fs, channels=2, dtype=np.int16)\n",
    "print(\"Say something!\")\n",
    "while sd.wait():\n",
    "    pass\n",
    "print(\"done\")"
   ]
  },
  {
   "cell_type": "code",
   "execution_count": 21,
   "metadata": {},
   "outputs": [],
   "source": [
    "def average_energy(x):\n",
    "    return np.sum(x.astype(np.double)*x.astype(np.double))/len(x)\n",
    "\n",
    "def RMSE(x, y):\n",
    "    error_signal = x - y\n",
    "    return math.sqrt(average_energy(error_signal))\n",
    "\n",
    "def entropy_in_bits_per_symbol(sequence_of_symbols):\n",
    "    value, counts = np.unique(sequence_of_symbols, return_counts = True)\n",
    "    probs = counts / len(sequence_of_symbols)\n",
    "    n_classes = np.count_nonzero(probs)\n",
    "\n",
    "    if n_classes <= 1:\n",
    "        return 0\n",
    "\n",
    "    entropy = 0.\n",
    "    for i in probs:\n",
    "        entropy -= i * math.log(i, 2)\n",
    "\n",
    "    return entropy\n",
    "\n",
    "def quantizer(x, quantization_step):\n",
    "    k = (x / quantization_step).astype(np.int32)\n",
    "    return k\n",
    "\n",
    "def dequantizer(k, quantization_step):\n",
    "    y = quantization_step * k\n",
    "    return y\n",
    "\n",
    "def q_deq(x, quantization_step):\n",
    "    k = quantizer(x, quantization_step)\n",
    "    y = dequantizer(k, quantization_step)\n",
    "    return k, y\n",
    "\n",
    "def q_RD_curve(data):\n",
    "    RD_points = []\n",
    "    for q_step in range(16, 1024, 32):\n",
    "        k, y = q_deq(data, q_step)\n",
    "        rate = entropy_in_bits_per_symbol(k[:, 0]) + entropy_in_bits_per_symbol(k[:, 1])\n",
    "        distortion = RMSE(data, y)\n",
    "        RD_points.append((rate, distortion))\n",
    "    return RD_points\n",
    "\n",
    "def MST_analyze(x):\n",
    "    w = np.empty_like(x, dtype=np.int32)\n",
    "    w[:, 0] = x[:, 0].astype(np.int32) + x[:, 1] # L(ow frequency subband)\n",
    "    w[:, 1] = x[:, 0].astype(np.int32) - x[:, 1] # H(igh frequency subband)\n",
    "    return w\n",
    "\n",
    "def MST_synthesize(w):\n",
    "    x = np.empty_like(w, dtype=np.int16)\n",
    "    x[:, 0] = (w[:, 0] + w[:, 1])/2 # L(ow frequency subband)\n",
    "    x[:, 1] = (w[:, 0] - w[:, 1])/2 # H(igh frequency subband)\n",
    "    return x\n",
    "\n",
    "def MST_RD_curve(data):\n",
    "    RD_points = []\n",
    "    for q_step in range(16, 1024, 32):\n",
    "        analyzed_data = MST_analyze(data)\n",
    "        k, y = q_deq(analyzed_data, q_step)\n",
    "        rate = entropy_in_bits_per_symbol(k[:, 0]) + entropy_in_bits_per_symbol(k[:, 1])\n",
    "        reconstructed_data = MST_synthesize(y)\n",
    "        distortion = RMSE(data, reconstructed_data)\n",
    "        RD_points.append((rate, distortion))\n",
    "    return RD_points\n",
    "\n",
    "def DWT_analyze(x, levels):\n",
    "    coefs = np.empty(x.shape, dtype=np.int32)\n",
    "    decomposition_0 = pywt.wavedec(x[:, 0], wavelet=wavelet, level=levels, mode=\"per\")\n",
    "    decomposition_1 = pywt.wavedec(x[:, 1], wavelet=wavelet, level=levels, mode=\"per\")\n",
    "    coefs_0, slices = pywt.coeffs_to_array(decomposition_0)\n",
    "    coefs_1, slices = pywt.coeffs_to_array(decomposition_1)\n",
    "    coefs[:, 0] = np.rint(coefs_0).astype(np.int32)\n",
    "    coefs[:, 1] = np.rint(coefs_1).astype(np.int32)\n",
    "    return coefs, slices\n",
    "\n",
    "def DWT_synthesize(coefs, slices):\n",
    "    samples = np.empty(coefs.shape, dtype=np.int16)\n",
    "    decomposition_0 = pywt.array_to_coeffs(coefs[:, 0], slices, output_format=\"wavedec\")\n",
    "    decomposition_1 = pywt.array_to_coeffs(coefs[:, 1], slices, output_format=\"wavedec\")\n",
    "    samples[:, 0] = np.rint(pywt.waverec(decomposition_0, wavelet=wavelet, mode=\"per\")).astype(np.int16)\n",
    "    samples[:, 1] = np.rint(pywt.waverec(decomposition_1, wavelet=wavelet, mode=\"per\")).astype(np.int16)\n",
    "    return samples\n",
    "\n",
    "def DWT_RD_curve(data, levels):\n",
    "    RD_points = []\n",
    "    for q_step in range(16, 1024, 32):\n",
    "        MST_coefs = MST_analyze(data)\n",
    "        DWT_coefs, slices = DWT_analyze(MST_coefs, levels)\n",
    "        k, y = q_deq(DWT_coefs, q_step)\n",
    "        rate = entropy_in_bits_per_symbol(k[:, 0]) + entropy_in_bits_per_symbol(k[:, 1])\n",
    "        MST_coefs = DWT_synthesize(y, slices)\n",
    "        reconstructed_data = MST_synthesize(MST_coefs)\n",
    "        distortion = RMSE(data, reconstructed_data)\n",
    "        RD_points.append((rate, distortion))\n",
    "    return RD_points\n",
    "\n",
    "number_of_overlaped_samples = 1 << math.ceil(math.log(wavelet.dec_len * levels) / math.log(2))\n",
    "number_of_overlaped_samples\n",
    "\n",
    "def DWT_analyze_extended(x, levels):\n",
    "    left_chunk = x[chunk_size * (chunk_number - 1) : chunk_size * chunk_number]\n",
    "    center_chunk = x[chunk_size * chunk_number : chunk_size * (chunk_number + 1)]\n",
    "    right_chunk = x[chunk_size * (chunk_number + 1) : chunk_size * (chunk_number + 2)]\n",
    "\n",
    "    last_samples_left_chunk = left_chunk[chunk_size - number_of_overlaped_samples :]\n",
    "    first_samples_right_chunk = right_chunk[: number_of_overlaped_samples]\n",
    "    extended_chunk = np.concatenate([last_samples_left_chunk, center_chunk, first_samples_right_chunk])\n",
    "\n",
    "    decomposition_0 = pywt.wavedec(extended_chunk[:,0], wavelet=wavelet, level=levels, mode=\"per\")\n",
    "    decomposition_1 = pywt.wavedec(extended_chunk[:,0], wavelet=wavelet, level=levels, mode=\"per\")\n",
    "    coefs = np.empty(extended_chunk.shape, dtype=np.int32)\n",
    "    coefs_0, slices = pywt.coeffs_to_array(decomposition_0)\n",
    "    coefs_1, slices = pywt.coeffs_to_array(decomposition_1)\n",
    "    coefs[:, 0] = np.rint(coefs_0).astype(np.int32)\n",
    "    coefs[:, 1] = np.rint(coefs_1).astype(np.int32)\n",
    "    return coefs, slices\n",
    "\n",
    "def DWT_synthesize_extended(coefs, slices):\n",
    "    samples = np.empty(coefs.shape, dtype=np.int16)\n",
    "    decomposition_0 = pywt.array_to_coeffs(coefs[:, 0], slices, output_format=\"wavedec\")\n",
    "    decomposition_1 = pywt.array_to_coeffs(coefs[:, 1], slices, output_format=\"wavedec\")\n",
    "    samples[:, 0] = np.rint(pywt.waverec(decomposition_0, wavelet=wavelet, mode=\"per\")).astype(np.int16)\n",
    "    samples[:, 1] = np.rint(pywt.waverec(decomposition_1, wavelet=wavelet, mode=\"per\")).astype(np.int16)\n",
    "    return samples\n",
    "\n",
    "def DWT_RD_curve_extended(data, levels):\n",
    "    RD_points = []\n",
    "    for q_step in range(16, 1024, 32):\n",
    "        MST_coefs = MST_analyze(data)\n",
    "        DWT_coefs, slices = DWT_analyze_extended(MST_coefs, levels)\n",
    "        k, y = q_deq(DWT_coefs, q_step)\n",
    "        rate = entropy_in_bits_per_symbol(k[:, 0]) + entropy_in_bits_per_symbol(k[:, 1])\n",
    "        MST_coefs = DWT_synthesize_extended(y, slices)\n",
    "        reconstructed_data = MST_synthesize(MST_coefs)\n",
    "        distortion = RMSE(data, reconstructed_data)\n",
    "        RD_points.append((rate, distortion))\n",
    "    return RD_points"
   ]
  },
  {
   "cell_type": "code",
   "execution_count": 22,
   "metadata": {},
   "outputs": [],
   "source": [
    "x = x[:65536]"
   ]
  },
  {
   "cell_type": "code",
   "execution_count": 23,
   "metadata": {},
   "outputs": [
    {
     "ename": "ValueError",
     "evalue": "operands could not be broadcast together with shapes (65536,2) (192,2) ",
     "output_type": "error",
     "traceback": [
      "\u001b[0;31m---------------------------------------------------------------------------\u001b[0m",
      "\u001b[0;31mValueError\u001b[0m                                Traceback (most recent call last)",
      "\u001b[0;32m<ipython-input-23-4e077eb9f0de>\u001b[0m in \u001b[0;36m<module>\u001b[0;34m\u001b[0m\n\u001b[1;32m      2\u001b[0m \u001b[0mMST_RD_points\u001b[0m \u001b[0;34m=\u001b[0m \u001b[0mMST_RD_curve\u001b[0m\u001b[0;34m(\u001b[0m\u001b[0mx\u001b[0m\u001b[0;34m)\u001b[0m\u001b[0;34m\u001b[0m\u001b[0;34m\u001b[0m\u001b[0m\n\u001b[1;32m      3\u001b[0m \u001b[0mDWT_RD_points\u001b[0m \u001b[0;34m=\u001b[0m \u001b[0mDWT_RD_curve\u001b[0m\u001b[0;34m(\u001b[0m\u001b[0mx\u001b[0m\u001b[0;34m,\u001b[0m \u001b[0mlevels\u001b[0m \u001b[0;34m=\u001b[0m \u001b[0;36m5\u001b[0m\u001b[0;34m)\u001b[0m\u001b[0;34m\u001b[0m\u001b[0;34m\u001b[0m\u001b[0m\n\u001b[0;32m----> 4\u001b[0;31m \u001b[0mDWT_RD_points_extended\u001b[0m \u001b[0;34m=\u001b[0m \u001b[0mDWT_RD_curve_extended\u001b[0m\u001b[0;34m(\u001b[0m\u001b[0mx\u001b[0m\u001b[0;34m,\u001b[0m \u001b[0mlevels\u001b[0m \u001b[0;34m=\u001b[0m \u001b[0;36m4\u001b[0m\u001b[0;34m)\u001b[0m\u001b[0;34m\u001b[0m\u001b[0;34m\u001b[0m\u001b[0m\n\u001b[0m",
      "\u001b[0;32m<ipython-input-21-cc359ec3fbce>\u001b[0m in \u001b[0;36mDWT_RD_curve_extended\u001b[0;34m(data, levels)\u001b[0m\n\u001b[1;32m    134\u001b[0m         \u001b[0mMST_coefs\u001b[0m \u001b[0;34m=\u001b[0m \u001b[0mDWT_synthesize_extended\u001b[0m\u001b[0;34m(\u001b[0m\u001b[0my\u001b[0m\u001b[0;34m,\u001b[0m \u001b[0mslices\u001b[0m\u001b[0;34m)\u001b[0m\u001b[0;34m\u001b[0m\u001b[0;34m\u001b[0m\u001b[0m\n\u001b[1;32m    135\u001b[0m         \u001b[0mreconstructed_data\u001b[0m \u001b[0;34m=\u001b[0m \u001b[0mMST_synthesize\u001b[0m\u001b[0;34m(\u001b[0m\u001b[0mMST_coefs\u001b[0m\u001b[0;34m)\u001b[0m\u001b[0;34m\u001b[0m\u001b[0;34m\u001b[0m\u001b[0m\n\u001b[0;32m--> 136\u001b[0;31m         \u001b[0mdistortion\u001b[0m \u001b[0;34m=\u001b[0m \u001b[0mRMSE\u001b[0m\u001b[0;34m(\u001b[0m\u001b[0mdata\u001b[0m\u001b[0;34m,\u001b[0m \u001b[0mreconstructed_data\u001b[0m\u001b[0;34m)\u001b[0m\u001b[0;34m\u001b[0m\u001b[0;34m\u001b[0m\u001b[0m\n\u001b[0m\u001b[1;32m    137\u001b[0m         \u001b[0mRD_points\u001b[0m\u001b[0;34m.\u001b[0m\u001b[0mappend\u001b[0m\u001b[0;34m(\u001b[0m\u001b[0;34m(\u001b[0m\u001b[0mrate\u001b[0m\u001b[0;34m,\u001b[0m \u001b[0mdistortion\u001b[0m\u001b[0;34m)\u001b[0m\u001b[0;34m)\u001b[0m\u001b[0;34m\u001b[0m\u001b[0;34m\u001b[0m\u001b[0m\n\u001b[1;32m    138\u001b[0m     \u001b[0;32mreturn\u001b[0m \u001b[0mRD_points\u001b[0m\u001b[0;34m\u001b[0m\u001b[0;34m\u001b[0m\u001b[0m\n",
      "\u001b[0;32m<ipython-input-21-cc359ec3fbce>\u001b[0m in \u001b[0;36mRMSE\u001b[0;34m(x, y)\u001b[0m\n\u001b[1;32m      3\u001b[0m \u001b[0;34m\u001b[0m\u001b[0m\n\u001b[1;32m      4\u001b[0m \u001b[0;32mdef\u001b[0m \u001b[0mRMSE\u001b[0m\u001b[0;34m(\u001b[0m\u001b[0mx\u001b[0m\u001b[0;34m,\u001b[0m \u001b[0my\u001b[0m\u001b[0;34m)\u001b[0m\u001b[0;34m:\u001b[0m\u001b[0;34m\u001b[0m\u001b[0;34m\u001b[0m\u001b[0m\n\u001b[0;32m----> 5\u001b[0;31m     \u001b[0merror_signal\u001b[0m \u001b[0;34m=\u001b[0m \u001b[0mx\u001b[0m \u001b[0;34m-\u001b[0m \u001b[0my\u001b[0m\u001b[0;34m\u001b[0m\u001b[0;34m\u001b[0m\u001b[0m\n\u001b[0m\u001b[1;32m      6\u001b[0m     \u001b[0;32mreturn\u001b[0m \u001b[0mmath\u001b[0m\u001b[0;34m.\u001b[0m\u001b[0msqrt\u001b[0m\u001b[0;34m(\u001b[0m\u001b[0maverage_energy\u001b[0m\u001b[0;34m(\u001b[0m\u001b[0merror_signal\u001b[0m\u001b[0;34m)\u001b[0m\u001b[0;34m)\u001b[0m\u001b[0;34m\u001b[0m\u001b[0;34m\u001b[0m\u001b[0m\n\u001b[1;32m      7\u001b[0m \u001b[0;34m\u001b[0m\u001b[0m\n",
      "\u001b[0;31mValueError\u001b[0m: operands could not be broadcast together with shapes (65536,2) (192,2) "
     ]
    }
   ],
   "source": [
    "q_RD_points = q_RD_curve(x)\n",
    "MST_RD_points = MST_RD_curve(x)\n",
    "DWT_RD_points = DWT_RD_curve(x, levels = 5)\n",
    "DWT_RD_points_extended = DWT_RD_curve_extended(x, levels = 4)"
   ]
  },
  {
   "cell_type": "code",
   "execution_count": null,
   "metadata": {},
   "outputs": [],
   "source": [
    "plt.title(\"RD Tradeoff\")\n",
    "plt.xlabel(\"Bits per Sample\")\n",
    "plt.ylabel(\"RMSE\")\n",
    "plt.scatter(*zip(*q_RD_points), c='r', marker=\".\", label='br_control')\n",
    "plt.scatter(*zip(*MST_RD_points), c='b', marker=\".\", label='intra_frame_decorrelation')\n",
    "plt.scatter(*zip(*DWT_RD_points), c='g', marker=\".\", label='temporal_decorrelation_simple')\n",
    "plt.scatter(*zip(*DWT_RD_points_extended), c='p', marker=\".\", label='temporal_decorrelate')\n",
    "plt.legend(loc='upper right')\n",
    "plt.show()"
   ]
  },
  {
   "cell_type": "code",
   "execution_count": null,
   "metadata": {},
   "outputs": [],
   "source": [
    "!python ./br_control.py --show_stats"
   ]
  },
  {
   "cell_type": "code",
   "execution_count": null,
   "metadata": {},
   "outputs": [],
   "source": [
    "!python ./intra_frame_decorrelation.py --show_stats"
   ]
  },
  {
   "cell_type": "code",
   "execution_count": null,
   "metadata": {},
   "outputs": [],
   "source": [
    "!python ./temporal_decorrelation_simple.py --show_stats"
   ]
  },
  {
   "cell_type": "code",
   "execution_count": null,
   "metadata": {},
   "outputs": [],
   "source": [
    "!python ./temporal_decorrelate.py --show_stats"
   ]
  }
 ],
 "metadata": {
  "kernelspec": {
   "display_name": "Python 3",
   "language": "python",
   "name": "python3"
  },
  "language_info": {
   "codemirror_mode": {
    "name": "ipython",
    "version": 3
   },
   "file_extension": ".py",
   "mimetype": "text/x-python",
   "name": "python",
   "nbconvert_exporter": "python",
   "pygments_lexer": "ipython3",
   "version": "3.8.5"
  }
 },
 "nbformat": 4,
 "nbformat_minor": 4
}
