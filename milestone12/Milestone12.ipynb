{
 "cells": [
  {
   "cell_type": "markdown",
   "metadata": {},
   "source": [
    "Comprobar wavelet."
   ]
  },
  {
   "cell_type": "code",
   "execution_count": 1,
   "metadata": {},
   "outputs": [],
   "source": [
    "import sounddevice as sd\n",
    "import pywt\n",
    "import math\n",
    "import numpy as np\n",
    "%matplotlib inline\n",
    "import matplotlib\n",
    "import matplotlib.pyplot as plt\n",
    "from scipy import signal\n",
    "from ipywidgets import interact, interactive, fixed, interact_manual\n",
    "import ipywidgets as widgets\n",
    "import pylab"
   ]
  },
  {
   "cell_type": "code",
   "execution_count": 2,
   "metadata": {},
   "outputs": [],
   "source": [
    "N = 512\n",
    "levels = 4\n",
    "#wavelet_name = \"haar\"\n",
    "#wavelet_name = \"db5\"\n",
    "#wavelet_name = \"db20\"\n",
    "wavelet_name = \"bior2.2\"\n",
    "#wavelet_name = \"rbio2.2\"\n",
    "#wavelet_name = \"coif2\"\n",
    "#wavelet_name = \"db3\"\n",
    "#wavelet_name = \"sym2\"\n",
    "#wavelet_name = \"sym4\"\n",
    "#wavelet_name = \"bior4.4\"\n",
    "#wavelet_name = \"bior4.5\"\n",
    "#wavelet_name = \"rbio1.3\"\n",
    "wavelet = pywt.Wavelet(wavelet_name)\n",
    "signal_mode_extension = \"per\"\n",
    "quantization_step = 256\n",
    "chunk_size = 1024"
   ]
  },
  {
   "cell_type": "markdown",
   "metadata": {},
   "source": [
    "RD Curves"
   ]
  },
  {
   "cell_type": "code",
   "execution_count": 3,
   "metadata": {},
   "outputs": [
    {
     "name": "stdout",
     "output_type": "stream",
     "text": [
      "Say something!\n",
      "done\n"
     ]
    }
   ],
   "source": [
    "fs = 44100      # Sampling frequency\n",
    "duration = 5.0  # seconds\n",
    "x = sd.rec(int(duration * fs), samplerate=fs, channels=2, dtype=np.int16)\n",
    "print(\"Say something!\")\n",
    "while sd.wait():\n",
    "    pass\n",
    "print(\"done\")"
   ]
  },
  {
   "cell_type": "code",
   "execution_count": 18,
   "metadata": {},
   "outputs": [],
   "source": [
    "def average_energy(x):\n",
    "    return np.sum(x.astype(np.double)*x.astype(np.double))/len(x)\n",
    "\n",
    "def RMSE(x, y):\n",
    "    error_signal = x - y\n",
    "    return math.sqrt(average_energy(error_signal))\n",
    "\n",
    "def entropy_in_bits_per_symbol(sequence_of_symbols):\n",
    "    value, counts = np.unique(sequence_of_symbols, return_counts = True)\n",
    "    probs = counts / len(sequence_of_symbols)\n",
    "    n_classes = np.count_nonzero(probs)\n",
    "\n",
    "    if n_classes <= 1:\n",
    "        return 0\n",
    "\n",
    "    entropy = 0.\n",
    "    for i in probs:\n",
    "        entropy -= i * math.log(i, 2)\n",
    "\n",
    "    return entropy\n",
    "\n",
    "def quantizer(x, quantization_step):\n",
    "    k = (x / quantization_step).astype(np.int32)\n",
    "    return k\n",
    "\n",
    "def dequantizer(k, quantization_step):\n",
    "    y = quantization_step * k\n",
    "    return y\n",
    "\n",
    "def q_deq(x, quantization_step):\n",
    "    k = quantizer(x, quantization_step)\n",
    "    y = dequantizer(k, quantization_step)\n",
    "    return k, y\n",
    "\n",
    "def q_RD_curve(data):\n",
    "    RD_points = []\n",
    "    for q_step in range(16, 1024, 32):\n",
    "        k, y = q_deq(data, q_step)\n",
    "        rate = entropy_in_bits_per_symbol(k[:, 0]) + entropy_in_bits_per_symbol(k[:, 1])\n",
    "        distortion = RMSE(data, y)\n",
    "        RD_points.append((rate, distortion))\n",
    "    return RD_points\n",
    "\n",
    "def MST_analyze(x):\n",
    "    w = np.empty_like(x, dtype=np.int32)\n",
    "    w[:, 0] = x[:, 0].astype(np.int32) + x[:, 1] # L(ow frequency subband)\n",
    "    w[:, 1] = x[:, 0].astype(np.int32) - x[:, 1] # H(igh frequency subband)\n",
    "    return w\n",
    "\n",
    "def MST_synthesize(w):\n",
    "    x = np.empty_like(w, dtype=np.int16)\n",
    "    x[:, 0] = (w[:, 0] + w[:, 1])/2 # L(ow frequency subband)\n",
    "    x[:, 1] = (w[:, 0] - w[:, 1])/2 # H(igh frequency subband)\n",
    "    return x\n",
    "\n",
    "def MST_RD_curve(data):\n",
    "    RD_points = []\n",
    "    for q_step in range(16, 1024, 32):\n",
    "        analyzed_data = MST_analyze(data)\n",
    "        k, y = q_deq(analyzed_data, q_step)\n",
    "        rate = entropy_in_bits_per_symbol(k[:, 0]) + entropy_in_bits_per_symbol(k[:, 1])\n",
    "        reconstructed_data = MST_synthesize(y)\n",
    "        distortion = RMSE(data, reconstructed_data)\n",
    "        RD_points.append((rate, distortion))\n",
    "    return RD_points\n",
    "\n",
    "def DWT_analyze(x, levels):\n",
    "    coefs = np.empty(x.shape, dtype=np.int32)\n",
    "    decomposition_0 = pywt.wavedec(x[:, 0], wavelet=wavelet, level=levels, mode=\"per\")\n",
    "    decomposition_1 = pywt.wavedec(x[:, 1], wavelet=wavelet, level=levels, mode=\"per\")\n",
    "    coefs_0, slices = pywt.coeffs_to_array(decomposition_0)\n",
    "    coefs_1, slices = pywt.coeffs_to_array(decomposition_1)\n",
    "    coefs[:, 0] = np.rint(coefs_0).astype(np.int32)\n",
    "    coefs[:, 1] = np.rint(coefs_1).astype(np.int32)\n",
    "    return coefs, slices\n",
    "\n",
    "def DWT_synthesize(coefs, slices):\n",
    "    samples = np.empty(coefs.shape, dtype=np.int16)\n",
    "    decomposition_0 = pywt.array_to_coeffs(coefs[:, 0], slices, output_format=\"wavedec\")\n",
    "    decomposition_1 = pywt.array_to_coeffs(coefs[:, 1], slices, output_format=\"wavedec\")\n",
    "    samples[:, 0] = np.rint(pywt.waverec(decomposition_0, wavelet=wavelet, mode=\"per\")).astype(np.int16)\n",
    "    samples[:, 1] = np.rint(pywt.waverec(decomposition_1, wavelet=wavelet, mode=\"per\")).astype(np.int16)\n",
    "    return samples\n",
    "\n",
    "def DWT_RD_curve(data, levels):\n",
    "    RD_points = []\n",
    "    for q_step in range(16, 1024, 32):\n",
    "        MST_coefs = MST_analyze(data)\n",
    "        DWT_coefs, slices = DWT_analyze(MST_coefs, levels)\n",
    "        k, y = q_deq(DWT_coefs, q_step)\n",
    "        rate = entropy_in_bits_per_symbol(k[:, 0]) + entropy_in_bits_per_symbol(k[:, 1])\n",
    "        MST_coefs = DWT_synthesize(y, slices)\n",
    "        reconstructed_data = MST_synthesize(MST_coefs)\n",
    "        distortion = RMSE(data, reconstructed_data)\n",
    "        #print(\"DISTORTION\", distortion)\n",
    "        RD_points.append((rate, distortion))\n",
    "    print(\"RD_points\", RD_points)\n",
    "    return RD_points\n",
    "\n",
    "''''\n",
    "def DWT_analyze_extended(x, levels):\n",
    "    left_chunk = x[chunk_size * (chunk_number - 1) : chunk_size * chunk_number]\n",
    "    center_chunk = x[chunk_size * chunk_number : chunk_size * (chunk_number + 1)]\n",
    "    right_chunk = x[chunk_size * (chunk_number + 1) : chunk_size * (chunk_number + 2)]\n",
    "    last_samples_left_chunk = left_chunk[chunk_size - number_of_overlaped_samples :]\n",
    "    first_samples_right_chunk = right_chunk[: number_of_overlaped_samples]\n",
    "    extended_chunk = np.concatenate([last_samples_left_chunk, center_chunk, first_samples_right_chunk])\n",
    "\n",
    "    decomposition_0 = pywt.wavedec(extended_chunk[:,0], wavelet=wavelet, level=levels, mode=\"per\")\n",
    "    decomposition_1 = pywt.wavedec(extended_chunk[:,0], wavelet=wavelet, level=levels, mode=\"per\")\n",
    "    coefs = np.empty(extended_chunk.shape, dtype=np.int32)\n",
    "    coefs_0, slices = pywt.coeffs_to_array(decomposition_0)\n",
    "    coefs_1, slices = pywt.coeffs_to_array(decomposition_1)\n",
    "    coefs[:, 0] = np.rint(coefs_0).astype(np.int32)\n",
    "    coefs[:, 1] = np.rint(coefs_1).astype(np.int32)\n",
    "    return coefs, slices\n",
    "\n",
    "def DWT_synthesize_extended(coefs, slices):\n",
    "    samples = np.empty(coefs.shape, dtype=np.int16)\n",
    "    decomposition_0 = pywt.array_to_coeffs(coefs[:, 0], slices, output_format=\"wavedec\")\n",
    "    decomposition_1 = pywt.array_to_coeffs(coefs[:, 1], slices, output_format=\"wavedec\")\n",
    "    samples[:, 0] = np.rint(pywt.waverec(decomposition_0[:], wavelet=wavelet, mode=\"per\")).astype(np.int16)\n",
    "    samples[:, 1] = np.rint(pywt.waverec(decomposition_1[:], wavelet=wavelet, mode=\"per\")).astype(np.int16)\n",
    "    return samples\n",
    "'''\n",
    "'''\n",
    "def DWT_RD_curve_extended(data, levels):\n",
    "    RD_points = []\n",
    "    current_chunk = np.empty(data[:1024].shape, dtype=np.int32)\n",
    "    next_chunk = np.empty(data[:1024].shape, dtype=np.int32)\n",
    "    previous_chunk = np.empty(data[:1024].shape, dtype=np.int32)\n",
    "    extended_chunk = np.empty(data[:(1024 + number_of_overlaped_samples * 2)].shape, dtype=np.int32)\n",
    "    for i in range(0, 65536, 1024):\n",
    "        chunk = data[i:(i + 1024)]\n",
    "            \n",
    "        if i != 0:\n",
    "            previous_chunk = current_chunk.copy()\n",
    "            current_chunk = next_chunk.copy()\n",
    "        \n",
    "        next_chunk = chunk.copy()\n",
    "        \n",
    "        extended_chunk = np.concatenate([previous_chunk[-number_of_overlaped_samples :], current_chunk, next_chunk[: number_of_overlaped_samples]])\n",
    "        \n",
    "        #for q_step in range(16, 1024, 32):\n",
    "        #MST_coefs = MST_analyze(extended_chunk)\n",
    "        #DWT_coefs, slices = DWT_analyze(MST_coefs, levels)\n",
    "        DWT_coefs, slices = DWT_analyze(extended_chunk, levels)\n",
    "        MST_coefs = MST_analyze(DWT_coefs)\n",
    "        #k, y = q_deq(DWT_coefs, q_step)\n",
    "        k, y = q_deq(DWT_coefs, 1)\n",
    "        rate = entropy_in_bits_per_symbol(k[:, 0]) + entropy_in_bits_per_symbol(k[:, 1])\n",
    "        #MST_coefs = DWT_synthesize(y, slices)\n",
    "        #reconstructed_chunk = MST_synthesize(MST_coefs)\n",
    "        DWT_coefs = MST_synthesize(y)\n",
    "        reconstructed_chunk = DWT_synthesize(DWT_coefs, slices)\n",
    "        distortion = RMSE(extended_chunk, reconstructed_chunk)\n",
    "        if i == 0 or i == 1:\n",
    "            continue\n",
    "        print(\"DISTORTION EXTENDED\", distortion)\n",
    "        RD_points.append((rate, distortion))\n",
    "    return RD_points\n",
    "\n",
    "def DWT_RD_curve_extended_2(data, levels):\n",
    "    RD_points = []\n",
    "    q_step = 1\n",
    "    #for q_step in range(16, 1024, 32):\n",
    "    MST_coefs = MST_analyze(data)\n",
    "    DWT_coefs, slices = DWT_analyze(MST_coefs, levels)\n",
    "    k, y = q_deq(DWT_coefs, q_step)\n",
    "    rate = entropy_in_bits_per_symbol(k[:, 0]) + entropy_in_bits_per_symbol(k[:, 1])\n",
    "    MST_coefs = DWT_synthesize(y, slices)\n",
    "    reconstructed_data = MST_synthesize(MST_coefs)\n",
    "    distortion = RMSE(data, reconstructed_data)\n",
    "    #print(\"DISTORTION\", distortion)\n",
    "    RD_points.append((rate, distortion))\n",
    "    return RD_points\n",
    "'''\n",
    "number_of_overlaped_samples = 1 << math.ceil(math.log(wavelet.dec_len * levels) / math.log(2))\n",
    "def DWT_RD_curve_extended(data, levels):\n",
    "    RD_points = []\n",
    "    current_chunk = np.empty(data[:1024].shape, dtype=np.int32)\n",
    "    next_chunk = np.empty(data[:1024].shape, dtype=np.int32)\n",
    "    previous_chunk = np.empty(data[:1024].shape, dtype=np.int32)\n",
    "    extended_chunk = np.empty(data[:(1024 + number_of_overlaped_samples * 2)].shape, dtype=np.int32)\n",
    "    for i in range(0, 65536, 1024):\n",
    "        chunk = data[i:(i + 1024)]\n",
    "            \n",
    "        if i != 0:\n",
    "            previous_chunk = current_chunk.copy()\n",
    "            current_chunk = next_chunk.copy()\n",
    "        \n",
    "        next_chunk = chunk.copy()\n",
    "        \n",
    "        extended_chunk = np.concatenate([previous_chunk[-number_of_overlaped_samples :], current_chunk, next_chunk[: number_of_overlaped_samples]])\n",
    "    RD_points = DWT_RD_curve(extended_chunk, levels)\n",
    "    return RD_points"
   ]
  },
  {
   "cell_type": "code",
   "execution_count": 19,
   "metadata": {},
   "outputs": [],
   "source": [
    "x = x[:65536]"
   ]
  },
  {
   "cell_type": "code",
   "execution_count": 20,
   "metadata": {},
   "outputs": [
    {
     "name": "stdout",
     "output_type": "stream",
     "text": [
      "RD_points [(10.008668027029362, 9.188459073825555), (6.351637548170472, 26.742166102916507), (4.695931203131548, 41.54923609135781), (3.758808728268095, 53.816129094653604), (3.1814020277553445, 64.70892786988003), (2.773792259174637, 75.1148348768677), (2.46445240005475, 84.95006683329018), (2.222068676051123, 93.96541527380234), (2.0269989459662323, 102.12333067109786), (1.8647437386610801, 109.66479305842806), (1.7338879689805937, 116.07242605464039), (1.622222501733893, 122.19985869753795), (1.5266002225268291, 127.86249123824162), (1.4408888273075617, 133.69723199962053), (1.3690946874861287, 138.96232011939017), (1.3028966137161604, 143.75143633580987), (1.2457950178483557, 148.34910582506618), (1.1915090109024553, 153.30846077799544), (1.1433910985696771, 158.02831608510033), (1.1026698558449215, 162.17939945638048), (1.064467423310044, 166.22458150337357), (1.0284721472347051, 170.04684624062227), (0.9977775363194208, 173.81352725749062), (0.9695671789357211, 177.41424694116364), (0.9430400951890363, 180.48787697106005), (0.9153319574101837, 184.50783900533588), (0.8919953803841819, 188.76566578103865), (0.8683344585651126, 193.0228933483471), (0.8478758039039683, 196.29994011371338), (0.8292299350883471, 199.62750930498902), (0.81117505415243, 202.38804100953385), (0.7959248518246324, 205.58632949771436)]\n",
      "RD_points [(9.243560400904013, 9.165251673319949), (5.688473306071375, 26.784972328659567), (4.090538615568964, 40.96343195281544), (3.202169013517821, 53.25947513050115), (2.6460518328550657, 63.73694358801006), (2.2268926883600537, 74.67961593878685), (1.939037444833338, 83.557114360742), (1.7143186534072614, 90.96745640612362), (1.5438575115258204, 97.57961964015665), (1.3962735478604695, 105.00883628785442), (1.2885764696384399, 110.21666079217094), (1.1878232691573736, 114.60226537002302), (1.110023520893165, 119.59075820701787), (1.055444391525458, 123.55458055045956), (0.9844830849872876, 128.26040191161655), (0.9277047285535186, 131.48169675237065), (0.8799501085198876, 134.16340385449203), (0.8295476785909088, 137.58872471651756), (0.805578200309134, 142.12844685147223), (0.7630272130734166, 144.56980745626376), (0.7248932561226227, 148.9794664838867), (0.7028709705031908, 152.74177134377908), (0.6772522592608254, 153.11434536761388), (0.6553645247304131, 159.40672694584828), (0.6430999587793175, 161.51197654098743), (0.6289061221718376, 157.95629805610233), (0.6303504214125883, 156.98304809662056), (0.6050525525189474, 168.20205428643393), (0.5733474207578089, 174.7150647777521), (0.574264313349961, 168.85384332141146), (0.5703090817215358, 171.38417081910728), (0.5596982282279325, 174.86525537328652)]\n",
      "EXTENDED RD_points [(9.243560400904013, 9.165251673319949), (5.688473306071375, 26.784972328659567), (4.090538615568964, 40.96343195281544), (3.202169013517821, 53.25947513050115), (2.6460518328550657, 63.73694358801006), (2.2268926883600537, 74.67961593878685), (1.939037444833338, 83.557114360742), (1.7143186534072614, 90.96745640612362), (1.5438575115258204, 97.57961964015665), (1.3962735478604695, 105.00883628785442), (1.2885764696384399, 110.21666079217094), (1.1878232691573736, 114.60226537002302), (1.110023520893165, 119.59075820701787), (1.055444391525458, 123.55458055045956), (0.9844830849872876, 128.26040191161655), (0.9277047285535186, 131.48169675237065), (0.8799501085198876, 134.16340385449203), (0.8295476785909088, 137.58872471651756), (0.805578200309134, 142.12844685147223), (0.7630272130734166, 144.56980745626376), (0.7248932561226227, 148.9794664838867), (0.7028709705031908, 152.74177134377908), (0.6772522592608254, 153.11434536761388), (0.6553645247304131, 159.40672694584828), (0.6430999587793175, 161.51197654098743), (0.6289061221718376, 157.95629805610233), (0.6303504214125883, 156.98304809662056), (0.6050525525189474, 168.20205428643393), (0.5733474207578089, 174.7150647777521), (0.574264313349961, 168.85384332141146), (0.5703090817215358, 171.38417081910728), (0.5596982282279325, 174.86525537328652)]\n"
     ]
    }
   ],
   "source": [
    "#current_chunk = np.empty(data[:1024].shape, dtype=np.int32)\n",
    "#next_chunk = np.empty(data[:1024].shape, dtype=np.int32)\n",
    "#previous_chunk = np.empty(data[:1024].shape, dtype=np.int32)\n",
    "#extended_chunk = np.empty(data[:(1024 + number_of_overlaped_samples * 2)].shape, dtype=np.int32)\n",
    "#chunk_start = data[0:3072]\n",
    "\n",
    "q_RD_points = q_RD_curve(x)\n",
    "MST_RD_points = MST_RD_curve(x)\n",
    "DWT_RD_points = DWT_RD_curve(x, levels = 4)\n",
    "DWT_RD_points_extended = DWT_RD_curve_extended(x, levels = 4)"
   ]
  },
  {
   "cell_type": "code",
   "execution_count": 21,
   "metadata": {},
   "outputs": [
    {
     "data": {
      "image/png": "[encoded data removed]",
      "text/plain": [
       "<Figure size 432x288 with 1 Axes>"
      ]
     },
     "metadata": {
      "needs_background": "light"
     },
     "output_type": "display_data"
    }
   ],
   "source": [
    "plt.title(\"RD Tradeoff\")\n",
    "plt.xlabel(\"Bits per Sample\")\n",
    "plt.ylabel(\"RMSE\")\n",
    "plt.scatter(*zip(*q_RD_points), c='r', marker=\".\", label='br_control')\n",
    "plt.scatter(*zip(*MST_RD_points), c='b', marker=\".\", label='intra_frame_decorrelation')\n",
    "plt.scatter(*zip(*DWT_RD_points), c='g', marker=\".\", label='temporal_decorrelation_simple')\n",
    "plt.scatter(*zip(*DWT_RD_points_extended), c='y', marker=\".\", label='temporal_decorrelate')\n",
    "plt.legend(loc='upper right')\n",
    "plt.show()"
   ]
  },
  {
   "cell_type": "code",
   "execution_count": null,
   "metadata": {},
   "outputs": [],
   "source": [
    "!python ./br_control.py --show_stats"
   ]
  },
  {
   "cell_type": "code",
   "execution_count": null,
   "metadata": {},
   "outputs": [],
   "source": [
    "!python ./intra_frame_decorrelation.py --show_stats"
   ]
  },
  {
   "cell_type": "code",
   "execution_count": null,
   "metadata": {},
   "outputs": [],
   "source": [
    "!python ./temporal_decorrelation_simple.py --show_stats"
   ]
  },
  {
   "cell_type": "code",
   "execution_count": null,
   "metadata": {},
   "outputs": [],
   "source": [
    "!python ./temporal_decorrelate.py --show_stats"
   ]
  }
 ],
 "metadata": {
  "kernelspec": {
   "display_name": "Python 3",
   "language": "python",
   "name": "python3"
  },
  "language_info": {
   "codemirror_mode": {
    "name": "ipython",
    "version": 3
   },
   "file_extension": ".py",
   "mimetype": "text/x-python",
   "name": "python",
   "nbconvert_exporter": "python",
   "pygments_lexer": "ipython3",
   "version": "3.8.5"
  }
 },
 "nbformat": 4,
 "nbformat_minor": 4
}
