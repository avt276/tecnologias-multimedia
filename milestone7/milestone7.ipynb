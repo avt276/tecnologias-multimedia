{
 "cells": [
  {
   "cell_type": "code",
   "execution_count": null,
   "metadata": {},
   "outputs": [],
   "source": [
    "# We activate the enviroment.\n",
    "!pyenv activate tm"
   ]
  },
  {
   "cell_type": "code",
   "execution_count": null,
   "metadata": {
    "scrolled": true
   },
   "outputs": [],
   "source": [
    "# First we execute ping in localhost with the smallest possible payload.\n",
    "!ping -c 100 localhost -s 16"
   ]
  },
  {
   "cell_type": "code",
   "execution_count": null,
   "metadata": {},
   "outputs": [],
   "source": [
    "# With the minimum RTT obtained, we can calculate t(p).\n",
    "# RTT min = 0.019 ms\n",
    "# t(p) = 0.0095 ms"
   ]
  },
  {
   "cell_type": "code",
   "execution_count": null,
   "metadata": {},
   "outputs": [],
   "source": [
    "# The we execute ping in localhost with the largest possible payload.\n",
    "!ping -c 100 localhost -s 20720"
   ]
  },
  {
   "cell_type": "code",
   "execution_count": null,
   "metadata": {},
   "outputs": [],
   "source": [
    "# With the average RTT obtained and tp, we can calculate t(t).\n",
    "# RTT avg = 0.040 ms\n",
    "# t(t) = 0.0105 ms\n",
    "# Now we have the data to calculate the bit rate available.\n",
    "# b = 15786664 KBps "
   ]
  },
  {
   "cell_type": "code",
   "execution_count": null,
   "metadata": {},
   "outputs": [],
   "source": [
    "# We can follow the same process to obtain the bitrate between the host and the router in the same local network.\n",
    "!ping -c 100 192.168.1.1 -s 16\n",
    "!ping -c 100 192.168.1.1 -s 20720\n",
    "# RTT min = 1.132 ms\n",
    "# RTT avg = 7.689 ms\n",
    "# t(p) = 0.566 ms\n",
    "# t(t) = 3.279 ms\n",
    "# b = 50559.2 KBps"
   ]
  },
  {
   "cell_type": "code",
   "execution_count": null,
   "metadata": {},
   "outputs": [],
   "source": [
    "# The same applies with a public host.\n",
    "!ping -c 100 www.meter.net -s 16\n",
    "!ping -c 100 www.meter.net -s 12781\n",
    "# RTT min = 19.065 ms\n",
    "# RTT avg = 32.262 ms\n",
    "# t(p) = 9.533 ms\n",
    "# t(t) = 6.599 ms\n",
    "# b = 15505 KBps"
   ]
  },
  {
   "cell_type": "code",
   "execution_count": null,
   "metadata": {},
   "outputs": [],
   "source": [
    "# Now, to simulate a real link between two host in different local networks we need to ping from a host\n",
    "# to the router outside its local network.\n",
    "!ping -c 100 95.120.255.29 -s 16 # We sum the min RTT obtained here with the min RTT obtained previously.\n",
    "!ping -c 100 95.120.255.29 -s 12781 # We sum the average RTT obtained here with the average RTT obtained earlier."
   ]
  },
  {
   "cell_type": "code",
   "execution_count": null,
   "metadata": {},
   "outputs": [],
   "source": [
    "# With RTT min and RTT average of the total we can calculate t(p), t(t) and bitrate.\n",
    "# RTT min = 51.265 ms\n",
    "# RTT avg = 339.266 ms\n",
    "# t(p) = 25.633 ms\n",
    "# t(t) = 144.001 ms\n",
    "# b = 710.48 KBps"
   ]
  },
  {
   "cell_type": "code",
   "execution_count": null,
   "metadata": {},
   "outputs": [],
   "source": [
    "# Now we can test the intercom by simulating the link.\n",
    "!sudo tc qdisc add dev lo root handle 1: tbf rate 89kbit burst 32kbit limit 32kbit\n",
    "!sudo tc qdisc add dev lo parent 1:1 handle 10: netem delay 70ms 32ms 25% distribution normal"
   ]
  },
  {
   "cell_type": "code",
   "execution_count": null,
   "metadata": {},
   "outputs": [],
   "source": [
    "# Then, we verify the current configuration.\n",
    "!sudo tc qdisc show dev lo"
   ]
  },
  {
   "cell_type": "code",
   "execution_count": null,
   "metadata": {},
   "outputs": [],
   "source": [
    "# We the simulated link, we can test the intercom\n",
    "!python minimal.py"
   ]
  },
  {
   "cell_type": "code",
   "execution_count": null,
   "metadata": {},
   "outputs": [],
   "source": [
    "# Finally, we delete the rules.\n",
    "!sudo tc qdisc delete dev lo root handle 1: tbf rate 89kbit burst 32kbit limit 32kbit\n",
    "!sudo tc qdisc delete dev lo parent 1:1 handle 10: netem delay 70ms 32ms 25% distribution normal"
   ]
  },
  {
   "cell_type": "code",
   "execution_count": null,
   "metadata": {},
   "outputs": [],
   "source": [
    "# And we verify the configuration.\n",
    "!sudo tc qdisc show dev lo"
   ]
  }
 ],
 "metadata": {
  "kernelspec": {
   "display_name": "Python 3",
   "language": "python",
   "name": "python3"
  },
  "language_info": {
   "codemirror_mode": {
    "name": "ipython",
    "version": 3
   },
   "file_extension": ".py",
   "mimetype": "text/x-python",
   "name": "python",
   "nbconvert_exporter": "python",
   "pygments_lexer": "ipython3",
   "version": "3.8.5"
  }
 },
 "nbformat": 4,
 "nbformat_minor": 4
}
