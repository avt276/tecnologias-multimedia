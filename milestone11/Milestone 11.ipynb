{
 "cells": [
  {
   "cell_type": "markdown",
   "metadata": {},
   "source": [
    "# Milestone 11: Spatial decorrelation in stereo audio signals."
   ]
  },
  {
   "cell_type": "markdown",
   "metadata": {},
   "source": [
    "In this milestone, we used the MST transform instead of others such as KLT transform. This is because the KLT change basis is signal dependent so it could decrease the effiency of the algorithm. Whereas, MST transforms encodes the two channels together as the sum of both (mid-channel) and its difference (side-channel) taking advantage of the similarities between the right channel and the left one. "
   ]
  },
  {
   "cell_type": "markdown",
   "metadata": {},
   "source": [
    "This method applies the forward transform to the chunk which is going to be send."
   ]
  },
  {
   "cell_type": "code",
   "execution_count": null,
   "metadata": {},
   "outputs": [],
   "source": [
    "def MST_analyze(self, x):\n",
    "        w = np.empty_like(x, dtype=np.int32)\n",
    "        w[:, 0] = x[:, 0].astype(np.int32) + x[:, 1] # L(ow frequency subband)\n",
    "        w[:, 1] = x[:, 0].astype(np.int32) - x[:, 1] # H(igh frequency subband)\n",
    "        return w"
   ]
  },
  {
   "cell_type": "markdown",
   "metadata": {},
   "source": [
    "This method applies the inverse transform to the received chunk."
   ]
  },
  {
   "cell_type": "code",
   "execution_count": null,
   "metadata": {},
   "outputs": [],
   "source": [
    "def MST_synthesize(self, w):\n",
    "        x = np.empty_like(w, dtype=np.int16)\n",
    "        x[:, 0] = (w[:, 0] + w[:, 1])/2 # L(ow frequency subband)\n",
    "        x[:, 1] = (w[:, 0] - w[:, 1])/2 # H(igh frequency subband)\n",
    "        return x"
   ]
  },
  {
   "cell_type": "markdown",
   "metadata": {},
   "source": [
    "We must apply the trasform before we pack and send the chunk."
   ]
  },
  {
   "cell_type": "code",
   "execution_count": null,
   "metadata": {},
   "outputs": [],
   "source": [
    "def pack(self, chunk_number, chunk)\n",
    "        analyzed_chunk = self.MST_analyze(chunk)\n",
    "        return super().pack(chunk_number, analyzed_chunk)"
   ]
  },
  {
   "cell_type": "markdown",
   "metadata": {},
   "source": [
    "When we receive a chunk, we apply the inverse transform to obtain the original chunk."
   ]
  },
  {
   "cell_type": "code",
   "execution_count": null,
   "metadata": {},
   "outputs": [],
   "source": [
    "def unpack(self, packed_chunk, dtype=minimal.Minimal.SAMPLE_TYPE):\n",
    "        chunk_number, chunk = super().unpack(packed_chunk, dtype)\n",
    "        synthesize_chunk = self.MST_synthesize(chunk)\n",
    "        return chunk_number, synthesize_chunk"
   ]
  },
  {
   "cell_type": "markdown",
   "metadata": {},
   "source": [
    "Finally, we are going to use an example to observe the main differences between br_control.py (with no MST transform) and spatial.py (with MST_transform)."
   ]
  },
  {
   "cell_type": "markdown",
   "metadata": {},
   "source": [
    "Execution of br_control:"
   ]
  },
  {
   "cell_type": "markdown",
   "metadata": {},
   "source": [
    "<img src=\"br_control_cut.png\">"
   ]
  },
  {
   "cell_type": "markdown",
   "metadata": {},
   "source": [
    "Execution of spatial.py:"
   ]
  },
  {
   "cell_type": "markdown",
   "metadata": {},
   "source": [
    "<img src=\"spatial_cut.png\">"
   ]
  },
  {
   "cell_type": "markdown",
   "metadata": {},
   "source": [
    "It can be observed that the compression ratio is better when the MST transform is applied. In this example the difference is of 73.63 kbps (478.81 - 405.18) in average. We can also see an improvement of BPS."
   ]
  }
 ],
 "metadata": {
  "kernelspec": {
   "display_name": "Python 3",
   "language": "python",
   "name": "python3"
  },
  "language_info": {
   "codemirror_mode": {
    "name": "ipython",
    "version": 3
   },
   "file_extension": ".py",
   "mimetype": "text/x-python",
   "name": "python",
   "nbconvert_exporter": "python",
   "pygments_lexer": "ipython3",
   "version": "3.8.5"
  }
 },
 "nbformat": 4,
 "nbformat_minor": 4
}
